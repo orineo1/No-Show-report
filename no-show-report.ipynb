{
 "cells": [
  {
   "cell_type": "code",
   "execution_count": 1,
   "id": "e3f864d6",
   "metadata": {
    "_cell_guid": "b1076dfc-b9ad-4769-8c92-a6c4dae69d19",
    "_uuid": "8f2839f25d086af736a60e9eeb907d3b93b6e0e5",
    "execution": {
     "iopub.execute_input": "2022-03-01T13:55:05.198999Z",
     "iopub.status.busy": "2022-03-01T13:55:05.197800Z",
     "iopub.status.idle": "2022-03-01T13:55:05.214730Z",
     "shell.execute_reply": "2022-03-01T13:55:05.215510Z",
     "shell.execute_reply.started": "2022-03-01T10:54:31.184126Z"
    },
    "papermill": {
     "duration": 0.045545,
     "end_time": "2022-03-01T13:55:05.215976",
     "exception": false,
     "start_time": "2022-03-01T13:55:05.170431",
     "status": "completed"
    },
    "tags": []
   },
   "outputs": [
    {
     "name": "stdout",
     "output_type": "stream",
     "text": [
      "/kaggle/input/noshowappointments/KaggleV2-May-2016.csv\n"
     ]
    }
   ],
   "source": [
    "# This Python 3 environment comes with many helpful analytics libraries installed\n",
    "# It is defined by the kaggle/python Docker image: https://github.com/kaggle/docker-python\n",
    "# For example, here's several helpful packages to load\n",
    "\n",
    "import numpy as np # linear algebra\n",
    "import pandas as pd # data processing, CSV file I/O (e.g. pd.read_csv)\n",
    "\n",
    "# Input data files are available in the read-only \"../input/\" directory\n",
    "# For example, running this (by clicking run or pressing Shift+Enter) will list all files under the input directory\n",
    "\n",
    "import os\n",
    "for dirname, _, filenames in os.walk('/kaggle/input'):\n",
    "    for filename in filenames:\n",
    "        print(os.path.join(dirname, filename))\n",
    "\n",
    "# You can write up to 20GB to the current directory (/kaggle/working/) that gets preserved as output when you create a version using \"Save & Run All\" \n",
    "# You can also write temporary files to /kaggle/temp/, but they won't be saved outside of the current session"
   ]
  },
  {
   "cell_type": "code",
   "execution_count": 2,
   "id": "edceb7de",
   "metadata": {
    "execution": {
     "iopub.execute_input": "2022-03-01T13:55:05.266058Z",
     "iopub.status.busy": "2022-03-01T13:55:05.265412Z",
     "iopub.status.idle": "2022-03-01T13:55:05.650579Z",
     "shell.execute_reply": "2022-03-01T13:55:05.649953Z",
     "shell.execute_reply.started": "2022-03-01T10:54:31.199845Z"
    },
    "papermill": {
     "duration": 0.410632,
     "end_time": "2022-03-01T13:55:05.650780",
     "exception": false,
     "start_time": "2022-03-01T13:55:05.240148",
     "status": "completed"
    },
    "tags": []
   },
   "outputs": [],
   "source": [
    "filename = \"/kaggle/input/noshowappointments/KaggleV2-May-2016.csv\"\n",
    "df = pd.read_csv(filename)"
   ]
  },
  {
   "cell_type": "code",
   "execution_count": 3,
   "id": "210e8cf4",
   "metadata": {
    "execution": {
     "iopub.execute_input": "2022-03-01T13:55:05.700237Z",
     "iopub.status.busy": "2022-03-01T13:55:05.699334Z",
     "iopub.status.idle": "2022-03-01T13:55:05.721665Z",
     "shell.execute_reply": "2022-03-01T13:55:05.722132Z",
     "shell.execute_reply.started": "2022-03-01T10:54:31.425005Z"
    },
    "papermill": {
     "duration": 0.048142,
     "end_time": "2022-03-01T13:55:05.722298",
     "exception": false,
     "start_time": "2022-03-01T13:55:05.674156",
     "status": "completed"
    },
    "tags": []
   },
   "outputs": [
    {
     "data": {
      "text/html": [
       "<div>\n",
       "<style scoped>\n",
       "    .dataframe tbody tr th:only-of-type {\n",
       "        vertical-align: middle;\n",
       "    }\n",
       "\n",
       "    .dataframe tbody tr th {\n",
       "        vertical-align: top;\n",
       "    }\n",
       "\n",
       "    .dataframe thead th {\n",
       "        text-align: right;\n",
       "    }\n",
       "</style>\n",
       "<table border=\"1\" class=\"dataframe\">\n",
       "  <thead>\n",
       "    <tr style=\"text-align: right;\">\n",
       "      <th></th>\n",
       "      <th>PatientId</th>\n",
       "      <th>AppointmentID</th>\n",
       "      <th>Gender</th>\n",
       "      <th>ScheduledDay</th>\n",
       "      <th>AppointmentDay</th>\n",
       "      <th>Age</th>\n",
       "      <th>Neighbourhood</th>\n",
       "      <th>Scholarship</th>\n",
       "      <th>Hipertension</th>\n",
       "      <th>Diabetes</th>\n",
       "      <th>Alcoholism</th>\n",
       "      <th>Handcap</th>\n",
       "      <th>SMS_received</th>\n",
       "      <th>No-show</th>\n",
       "    </tr>\n",
       "  </thead>\n",
       "  <tbody>\n",
       "    <tr>\n",
       "      <th>0</th>\n",
       "      <td>2.987250e+13</td>\n",
       "      <td>5642903</td>\n",
       "      <td>F</td>\n",
       "      <td>2016-04-29T18:38:08Z</td>\n",
       "      <td>2016-04-29T00:00:00Z</td>\n",
       "      <td>62</td>\n",
       "      <td>JARDIM DA PENHA</td>\n",
       "      <td>0</td>\n",
       "      <td>1</td>\n",
       "      <td>0</td>\n",
       "      <td>0</td>\n",
       "      <td>0</td>\n",
       "      <td>0</td>\n",
       "      <td>No</td>\n",
       "    </tr>\n",
       "    <tr>\n",
       "      <th>1</th>\n",
       "      <td>5.589978e+14</td>\n",
       "      <td>5642503</td>\n",
       "      <td>M</td>\n",
       "      <td>2016-04-29T16:08:27Z</td>\n",
       "      <td>2016-04-29T00:00:00Z</td>\n",
       "      <td>56</td>\n",
       "      <td>JARDIM DA PENHA</td>\n",
       "      <td>0</td>\n",
       "      <td>0</td>\n",
       "      <td>0</td>\n",
       "      <td>0</td>\n",
       "      <td>0</td>\n",
       "      <td>0</td>\n",
       "      <td>No</td>\n",
       "    </tr>\n",
       "    <tr>\n",
       "      <th>2</th>\n",
       "      <td>4.262962e+12</td>\n",
       "      <td>5642549</td>\n",
       "      <td>F</td>\n",
       "      <td>2016-04-29T16:19:04Z</td>\n",
       "      <td>2016-04-29T00:00:00Z</td>\n",
       "      <td>62</td>\n",
       "      <td>MATA DA PRAIA</td>\n",
       "      <td>0</td>\n",
       "      <td>0</td>\n",
       "      <td>0</td>\n",
       "      <td>0</td>\n",
       "      <td>0</td>\n",
       "      <td>0</td>\n",
       "      <td>No</td>\n",
       "    </tr>\n",
       "    <tr>\n",
       "      <th>3</th>\n",
       "      <td>8.679512e+11</td>\n",
       "      <td>5642828</td>\n",
       "      <td>F</td>\n",
       "      <td>2016-04-29T17:29:31Z</td>\n",
       "      <td>2016-04-29T00:00:00Z</td>\n",
       "      <td>8</td>\n",
       "      <td>PONTAL DE CAMBURI</td>\n",
       "      <td>0</td>\n",
       "      <td>0</td>\n",
       "      <td>0</td>\n",
       "      <td>0</td>\n",
       "      <td>0</td>\n",
       "      <td>0</td>\n",
       "      <td>No</td>\n",
       "    </tr>\n",
       "    <tr>\n",
       "      <th>4</th>\n",
       "      <td>8.841186e+12</td>\n",
       "      <td>5642494</td>\n",
       "      <td>F</td>\n",
       "      <td>2016-04-29T16:07:23Z</td>\n",
       "      <td>2016-04-29T00:00:00Z</td>\n",
       "      <td>56</td>\n",
       "      <td>JARDIM DA PENHA</td>\n",
       "      <td>0</td>\n",
       "      <td>1</td>\n",
       "      <td>1</td>\n",
       "      <td>0</td>\n",
       "      <td>0</td>\n",
       "      <td>0</td>\n",
       "      <td>No</td>\n",
       "    </tr>\n",
       "  </tbody>\n",
       "</table>\n",
       "</div>"
      ],
      "text/plain": [
       "      PatientId  AppointmentID Gender          ScheduledDay  \\\n",
       "0  2.987250e+13        5642903      F  2016-04-29T18:38:08Z   \n",
       "1  5.589978e+14        5642503      M  2016-04-29T16:08:27Z   \n",
       "2  4.262962e+12        5642549      F  2016-04-29T16:19:04Z   \n",
       "3  8.679512e+11        5642828      F  2016-04-29T17:29:31Z   \n",
       "4  8.841186e+12        5642494      F  2016-04-29T16:07:23Z   \n",
       "\n",
       "         AppointmentDay  Age      Neighbourhood  Scholarship  Hipertension  \\\n",
       "0  2016-04-29T00:00:00Z   62    JARDIM DA PENHA            0             1   \n",
       "1  2016-04-29T00:00:00Z   56    JARDIM DA PENHA            0             0   \n",
       "2  2016-04-29T00:00:00Z   62      MATA DA PRAIA            0             0   \n",
       "3  2016-04-29T00:00:00Z    8  PONTAL DE CAMBURI            0             0   \n",
       "4  2016-04-29T00:00:00Z   56    JARDIM DA PENHA            0             1   \n",
       "\n",
       "   Diabetes  Alcoholism  Handcap  SMS_received No-show  \n",
       "0         0           0        0             0      No  \n",
       "1         0           0        0             0      No  \n",
       "2         0           0        0             0      No  \n",
       "3         0           0        0             0      No  \n",
       "4         1           0        0             0      No  "
      ]
     },
     "execution_count": 3,
     "metadata": {},
     "output_type": "execute_result"
    }
   ],
   "source": [
    "df.head()"
   ]
  },
  {
   "cell_type": "markdown",
   "id": "2849322b",
   "metadata": {
    "papermill": {
     "duration": 0.022197,
     "end_time": "2022-03-01T13:55:05.766940",
     "exception": false,
     "start_time": "2022-03-01T13:55:05.744743",
     "status": "completed"
    },
    "tags": []
   },
   "source": [
    "After reviewing the data, for easier analysis, I'll add rows to distinct the different days, hours, and the time that passed between the registration to the appointment."
   ]
  },
  {
   "cell_type": "code",
   "execution_count": 4,
   "id": "c9195ae2",
   "metadata": {
    "execution": {
     "iopub.execute_input": "2022-03-01T13:55:05.818130Z",
     "iopub.status.busy": "2022-03-01T13:55:05.817186Z",
     "iopub.status.idle": "2022-03-01T13:55:07.106530Z",
     "shell.execute_reply": "2022-03-01T13:55:07.107043Z",
     "shell.execute_reply.started": "2022-03-01T10:54:31.443851Z"
    },
    "papermill": {
     "duration": 1.317461,
     "end_time": "2022-03-01T13:55:07.107216",
     "exception": false,
     "start_time": "2022-03-01T13:55:05.789755",
     "status": "completed"
    },
    "tags": []
   },
   "outputs": [
    {
     "data": {
      "text/html": [
       "<div>\n",
       "<style scoped>\n",
       "    .dataframe tbody tr th:only-of-type {\n",
       "        vertical-align: middle;\n",
       "    }\n",
       "\n",
       "    .dataframe tbody tr th {\n",
       "        vertical-align: top;\n",
       "    }\n",
       "\n",
       "    .dataframe thead th {\n",
       "        text-align: right;\n",
       "    }\n",
       "</style>\n",
       "<table border=\"1\" class=\"dataframe\">\n",
       "  <thead>\n",
       "    <tr style=\"text-align: right;\">\n",
       "      <th></th>\n",
       "      <th>PatientId</th>\n",
       "      <th>AppointmentID</th>\n",
       "      <th>Gender</th>\n",
       "      <th>ScheduledDay</th>\n",
       "      <th>AppointmentDay</th>\n",
       "      <th>Age</th>\n",
       "      <th>Neighbourhood</th>\n",
       "      <th>Scholarship</th>\n",
       "      <th>Hipertension</th>\n",
       "      <th>Diabetes</th>\n",
       "      <th>Alcoholism</th>\n",
       "      <th>Handcap</th>\n",
       "      <th>SMS_received</th>\n",
       "      <th>No-show</th>\n",
       "      <th>ScheduledHour</th>\n",
       "      <th>ScheduledDay_word</th>\n",
       "      <th>ScheduledDay_num</th>\n",
       "      <th>between_reg2app</th>\n",
       "    </tr>\n",
       "  </thead>\n",
       "  <tbody>\n",
       "    <tr>\n",
       "      <th>0</th>\n",
       "      <td>2.987250e+13</td>\n",
       "      <td>5642903</td>\n",
       "      <td>F</td>\n",
       "      <td>2016-04-29 18:38:08+00:00</td>\n",
       "      <td>2016-04-29 00:00:00+00:00</td>\n",
       "      <td>62</td>\n",
       "      <td>JARDIM DA PENHA</td>\n",
       "      <td>0</td>\n",
       "      <td>1</td>\n",
       "      <td>0</td>\n",
       "      <td>0</td>\n",
       "      <td>0</td>\n",
       "      <td>0</td>\n",
       "      <td>No</td>\n",
       "      <td>18</td>\n",
       "      <td>Friday</td>\n",
       "      <td>4</td>\n",
       "      <td>0 days</td>\n",
       "    </tr>\n",
       "    <tr>\n",
       "      <th>1</th>\n",
       "      <td>5.589978e+14</td>\n",
       "      <td>5642503</td>\n",
       "      <td>M</td>\n",
       "      <td>2016-04-29 16:08:27+00:00</td>\n",
       "      <td>2016-04-29 00:00:00+00:00</td>\n",
       "      <td>56</td>\n",
       "      <td>JARDIM DA PENHA</td>\n",
       "      <td>0</td>\n",
       "      <td>0</td>\n",
       "      <td>0</td>\n",
       "      <td>0</td>\n",
       "      <td>0</td>\n",
       "      <td>0</td>\n",
       "      <td>No</td>\n",
       "      <td>16</td>\n",
       "      <td>Friday</td>\n",
       "      <td>4</td>\n",
       "      <td>0 days</td>\n",
       "    </tr>\n",
       "    <tr>\n",
       "      <th>2</th>\n",
       "      <td>4.262962e+12</td>\n",
       "      <td>5642549</td>\n",
       "      <td>F</td>\n",
       "      <td>2016-04-29 16:19:04+00:00</td>\n",
       "      <td>2016-04-29 00:00:00+00:00</td>\n",
       "      <td>62</td>\n",
       "      <td>MATA DA PRAIA</td>\n",
       "      <td>0</td>\n",
       "      <td>0</td>\n",
       "      <td>0</td>\n",
       "      <td>0</td>\n",
       "      <td>0</td>\n",
       "      <td>0</td>\n",
       "      <td>No</td>\n",
       "      <td>16</td>\n",
       "      <td>Friday</td>\n",
       "      <td>4</td>\n",
       "      <td>0 days</td>\n",
       "    </tr>\n",
       "    <tr>\n",
       "      <th>3</th>\n",
       "      <td>8.679512e+11</td>\n",
       "      <td>5642828</td>\n",
       "      <td>F</td>\n",
       "      <td>2016-04-29 17:29:31+00:00</td>\n",
       "      <td>2016-04-29 00:00:00+00:00</td>\n",
       "      <td>8</td>\n",
       "      <td>PONTAL DE CAMBURI</td>\n",
       "      <td>0</td>\n",
       "      <td>0</td>\n",
       "      <td>0</td>\n",
       "      <td>0</td>\n",
       "      <td>0</td>\n",
       "      <td>0</td>\n",
       "      <td>No</td>\n",
       "      <td>17</td>\n",
       "      <td>Friday</td>\n",
       "      <td>4</td>\n",
       "      <td>0 days</td>\n",
       "    </tr>\n",
       "    <tr>\n",
       "      <th>4</th>\n",
       "      <td>8.841186e+12</td>\n",
       "      <td>5642494</td>\n",
       "      <td>F</td>\n",
       "      <td>2016-04-29 16:07:23+00:00</td>\n",
       "      <td>2016-04-29 00:00:00+00:00</td>\n",
       "      <td>56</td>\n",
       "      <td>JARDIM DA PENHA</td>\n",
       "      <td>0</td>\n",
       "      <td>1</td>\n",
       "      <td>1</td>\n",
       "      <td>0</td>\n",
       "      <td>0</td>\n",
       "      <td>0</td>\n",
       "      <td>No</td>\n",
       "      <td>16</td>\n",
       "      <td>Friday</td>\n",
       "      <td>4</td>\n",
       "      <td>0 days</td>\n",
       "    </tr>\n",
       "  </tbody>\n",
       "</table>\n",
       "</div>"
      ],
      "text/plain": [
       "      PatientId  AppointmentID Gender              ScheduledDay  \\\n",
       "0  2.987250e+13        5642903      F 2016-04-29 18:38:08+00:00   \n",
       "1  5.589978e+14        5642503      M 2016-04-29 16:08:27+00:00   \n",
       "2  4.262962e+12        5642549      F 2016-04-29 16:19:04+00:00   \n",
       "3  8.679512e+11        5642828      F 2016-04-29 17:29:31+00:00   \n",
       "4  8.841186e+12        5642494      F 2016-04-29 16:07:23+00:00   \n",
       "\n",
       "             AppointmentDay  Age      Neighbourhood  Scholarship  \\\n",
       "0 2016-04-29 00:00:00+00:00   62    JARDIM DA PENHA            0   \n",
       "1 2016-04-29 00:00:00+00:00   56    JARDIM DA PENHA            0   \n",
       "2 2016-04-29 00:00:00+00:00   62      MATA DA PRAIA            0   \n",
       "3 2016-04-29 00:00:00+00:00    8  PONTAL DE CAMBURI            0   \n",
       "4 2016-04-29 00:00:00+00:00   56    JARDIM DA PENHA            0   \n",
       "\n",
       "   Hipertension  Diabetes  Alcoholism  Handcap  SMS_received No-show  \\\n",
       "0             1         0           0        0             0      No   \n",
       "1             0         0           0        0             0      No   \n",
       "2             0         0           0        0             0      No   \n",
       "3             0         0           0        0             0      No   \n",
       "4             1         1           0        0             0      No   \n",
       "\n",
       "   ScheduledHour ScheduledDay_word  ScheduledDay_num between_reg2app  \n",
       "0             18            Friday                 4          0 days  \n",
       "1             16            Friday                 4          0 days  \n",
       "2             16            Friday                 4          0 days  \n",
       "3             17            Friday                 4          0 days  \n",
       "4             16            Friday                 4          0 days  "
      ]
     },
     "execution_count": 4,
     "metadata": {},
     "output_type": "execute_result"
    }
   ],
   "source": [
    "import calendar\n",
    "\n",
    "#add more columns for the analysis     \n",
    "df[\"ScheduledDay\"] =pd.to_datetime(df[\"ScheduledDay\"])\n",
    "df[\"AppointmentDay\"] =pd.to_datetime(df[\"AppointmentDay\"])\n",
    "df[\"ScheduledHour\"] = pd.to_datetime(df[\"ScheduledDay\"]).apply(lambda p:p.hour)\n",
    "df[\"ScheduledDay_word\"] = pd.to_datetime(df[\"ScheduledDay\"]).apply(lambda p:calendar.day_name[p.weekday()])\n",
    "df[\"ScheduledDay_num\"] = pd.to_datetime(df[\"ScheduledDay\"]).apply(lambda p:p.weekday)\n",
    "df[\"between_reg2app\"] = df.AppointmentDay.dt.date - df.ScheduledDay.dt.date\n",
    "\n",
    "df.head()"
   ]
  },
  {
   "cell_type": "code",
   "execution_count": 5,
   "id": "51150f88",
   "metadata": {
    "execution": {
     "iopub.execute_input": "2022-03-01T13:55:07.163786Z",
     "iopub.status.busy": "2022-03-01T13:55:07.162366Z",
     "iopub.status.idle": "2022-03-01T13:55:07.260749Z",
     "shell.execute_reply": "2022-03-01T13:55:07.261279Z",
     "shell.execute_reply.started": "2022-03-01T10:54:32.790036Z"
    },
    "papermill": {
     "duration": 0.130575,
     "end_time": "2022-03-01T13:55:07.261573",
     "exception": false,
     "start_time": "2022-03-01T13:55:07.130998",
     "status": "completed"
    },
    "tags": []
   },
   "outputs": [
    {
     "data": {
      "text/html": [
       "<div>\n",
       "<style scoped>\n",
       "    .dataframe tbody tr th:only-of-type {\n",
       "        vertical-align: middle;\n",
       "    }\n",
       "\n",
       "    .dataframe tbody tr th {\n",
       "        vertical-align: top;\n",
       "    }\n",
       "\n",
       "    .dataframe thead th {\n",
       "        text-align: right;\n",
       "    }\n",
       "</style>\n",
       "<table border=\"1\" class=\"dataframe\">\n",
       "  <thead>\n",
       "    <tr style=\"text-align: right;\">\n",
       "      <th></th>\n",
       "      <th>PatientId</th>\n",
       "      <th>AppointmentID</th>\n",
       "      <th>Age</th>\n",
       "      <th>Scholarship</th>\n",
       "      <th>Hipertension</th>\n",
       "      <th>Diabetes</th>\n",
       "      <th>Alcoholism</th>\n",
       "      <th>Handcap</th>\n",
       "      <th>SMS_received</th>\n",
       "      <th>ScheduledHour</th>\n",
       "      <th>ScheduledDay_num</th>\n",
       "      <th>between_reg2app</th>\n",
       "    </tr>\n",
       "  </thead>\n",
       "  <tbody>\n",
       "    <tr>\n",
       "      <th>count</th>\n",
       "      <td>1.105270e+05</td>\n",
       "      <td>1.105270e+05</td>\n",
       "      <td>110527.000000</td>\n",
       "      <td>110527.000000</td>\n",
       "      <td>110527.000000</td>\n",
       "      <td>110527.000000</td>\n",
       "      <td>110527.000000</td>\n",
       "      <td>110527.000000</td>\n",
       "      <td>110527.000000</td>\n",
       "      <td>110527.000000</td>\n",
       "      <td>110527.000000</td>\n",
       "      <td>110527</td>\n",
       "    </tr>\n",
       "    <tr>\n",
       "      <th>mean</th>\n",
       "      <td>1.474963e+14</td>\n",
       "      <td>5.675305e+06</td>\n",
       "      <td>37.088874</td>\n",
       "      <td>0.098266</td>\n",
       "      <td>0.197246</td>\n",
       "      <td>0.071865</td>\n",
       "      <td>0.030400</td>\n",
       "      <td>0.022248</td>\n",
       "      <td>0.321026</td>\n",
       "      <td>10.774517</td>\n",
       "      <td>1.851955</td>\n",
       "      <td>10 days 04:24:31.828602965</td>\n",
       "    </tr>\n",
       "    <tr>\n",
       "      <th>std</th>\n",
       "      <td>2.560949e+14</td>\n",
       "      <td>7.129575e+04</td>\n",
       "      <td>23.110205</td>\n",
       "      <td>0.297675</td>\n",
       "      <td>0.397921</td>\n",
       "      <td>0.258265</td>\n",
       "      <td>0.171686</td>\n",
       "      <td>0.161543</td>\n",
       "      <td>0.466873</td>\n",
       "      <td>3.216189</td>\n",
       "      <td>1.378520</td>\n",
       "      <td>15 days 06:07:11.673762786</td>\n",
       "    </tr>\n",
       "    <tr>\n",
       "      <th>min</th>\n",
       "      <td>3.921784e+04</td>\n",
       "      <td>5.030230e+06</td>\n",
       "      <td>-1.000000</td>\n",
       "      <td>0.000000</td>\n",
       "      <td>0.000000</td>\n",
       "      <td>0.000000</td>\n",
       "      <td>0.000000</td>\n",
       "      <td>0.000000</td>\n",
       "      <td>0.000000</td>\n",
       "      <td>6.000000</td>\n",
       "      <td>0.000000</td>\n",
       "      <td>-6 days +00:00:00</td>\n",
       "    </tr>\n",
       "    <tr>\n",
       "      <th>25%</th>\n",
       "      <td>4.172614e+12</td>\n",
       "      <td>5.640286e+06</td>\n",
       "      <td>18.000000</td>\n",
       "      <td>0.000000</td>\n",
       "      <td>0.000000</td>\n",
       "      <td>0.000000</td>\n",
       "      <td>0.000000</td>\n",
       "      <td>0.000000</td>\n",
       "      <td>0.000000</td>\n",
       "      <td>8.000000</td>\n",
       "      <td>1.000000</td>\n",
       "      <td>0 days 00:00:00</td>\n",
       "    </tr>\n",
       "    <tr>\n",
       "      <th>50%</th>\n",
       "      <td>3.173184e+13</td>\n",
       "      <td>5.680573e+06</td>\n",
       "      <td>37.000000</td>\n",
       "      <td>0.000000</td>\n",
       "      <td>0.000000</td>\n",
       "      <td>0.000000</td>\n",
       "      <td>0.000000</td>\n",
       "      <td>0.000000</td>\n",
       "      <td>0.000000</td>\n",
       "      <td>10.000000</td>\n",
       "      <td>2.000000</td>\n",
       "      <td>4 days 00:00:00</td>\n",
       "    </tr>\n",
       "    <tr>\n",
       "      <th>75%</th>\n",
       "      <td>9.439172e+13</td>\n",
       "      <td>5.725524e+06</td>\n",
       "      <td>55.000000</td>\n",
       "      <td>0.000000</td>\n",
       "      <td>0.000000</td>\n",
       "      <td>0.000000</td>\n",
       "      <td>0.000000</td>\n",
       "      <td>0.000000</td>\n",
       "      <td>1.000000</td>\n",
       "      <td>13.000000</td>\n",
       "      <td>3.000000</td>\n",
       "      <td>15 days 00:00:00</td>\n",
       "    </tr>\n",
       "    <tr>\n",
       "      <th>max</th>\n",
       "      <td>9.999816e+14</td>\n",
       "      <td>5.790484e+06</td>\n",
       "      <td>115.000000</td>\n",
       "      <td>1.000000</td>\n",
       "      <td>1.000000</td>\n",
       "      <td>1.000000</td>\n",
       "      <td>1.000000</td>\n",
       "      <td>4.000000</td>\n",
       "      <td>1.000000</td>\n",
       "      <td>21.000000</td>\n",
       "      <td>5.000000</td>\n",
       "      <td>179 days 00:00:00</td>\n",
       "    </tr>\n",
       "  </tbody>\n",
       "</table>\n",
       "</div>"
      ],
      "text/plain": [
       "          PatientId  AppointmentID            Age    Scholarship  \\\n",
       "count  1.105270e+05   1.105270e+05  110527.000000  110527.000000   \n",
       "mean   1.474963e+14   5.675305e+06      37.088874       0.098266   \n",
       "std    2.560949e+14   7.129575e+04      23.110205       0.297675   \n",
       "min    3.921784e+04   5.030230e+06      -1.000000       0.000000   \n",
       "25%    4.172614e+12   5.640286e+06      18.000000       0.000000   \n",
       "50%    3.173184e+13   5.680573e+06      37.000000       0.000000   \n",
       "75%    9.439172e+13   5.725524e+06      55.000000       0.000000   \n",
       "max    9.999816e+14   5.790484e+06     115.000000       1.000000   \n",
       "\n",
       "        Hipertension       Diabetes     Alcoholism        Handcap  \\\n",
       "count  110527.000000  110527.000000  110527.000000  110527.000000   \n",
       "mean        0.197246       0.071865       0.030400       0.022248   \n",
       "std         0.397921       0.258265       0.171686       0.161543   \n",
       "min         0.000000       0.000000       0.000000       0.000000   \n",
       "25%         0.000000       0.000000       0.000000       0.000000   \n",
       "50%         0.000000       0.000000       0.000000       0.000000   \n",
       "75%         0.000000       0.000000       0.000000       0.000000   \n",
       "max         1.000000       1.000000       1.000000       4.000000   \n",
       "\n",
       "        SMS_received  ScheduledHour  ScheduledDay_num  \\\n",
       "count  110527.000000  110527.000000     110527.000000   \n",
       "mean        0.321026      10.774517          1.851955   \n",
       "std         0.466873       3.216189          1.378520   \n",
       "min         0.000000       6.000000          0.000000   \n",
       "25%         0.000000       8.000000          1.000000   \n",
       "50%         0.000000      10.000000          2.000000   \n",
       "75%         1.000000      13.000000          3.000000   \n",
       "max         1.000000      21.000000          5.000000   \n",
       "\n",
       "                  between_reg2app  \n",
       "count                      110527  \n",
       "mean   10 days 04:24:31.828602965  \n",
       "std    15 days 06:07:11.673762786  \n",
       "min             -6 days +00:00:00  \n",
       "25%               0 days 00:00:00  \n",
       "50%               4 days 00:00:00  \n",
       "75%              15 days 00:00:00  \n",
       "max             179 days 00:00:00  "
      ]
     },
     "execution_count": 5,
     "metadata": {},
     "output_type": "execute_result"
    }
   ],
   "source": [
    "df.describe() # looking if there are problems with the data"
   ]
  },
  {
   "cell_type": "markdown",
   "id": "a1c69c6e",
   "metadata": {
    "papermill": {
     "duration": 0.025176,
     "end_time": "2022-03-01T13:55:07.314453",
     "exception": false,
     "start_time": "2022-03-01T13:55:07.289277",
     "status": "completed"
    },
    "tags": []
   },
   "source": [
    "We can notice there is a problem with the data, there is at least one row with age < 0.\n",
    "\n",
    "Another problem is that there's a between_reg2app<0, I will address the second problem later. \n"
   ]
  },
  {
   "cell_type": "code",
   "execution_count": 6,
   "id": "719c68e0",
   "metadata": {
    "execution": {
     "iopub.execute_input": "2022-03-01T13:55:07.370818Z",
     "iopub.status.busy": "2022-03-01T13:55:07.369830Z",
     "iopub.status.idle": "2022-03-01T13:55:07.473086Z",
     "shell.execute_reply": "2022-03-01T13:55:07.472324Z",
     "shell.execute_reply.started": "2022-03-01T10:54:32.881142Z"
    },
    "papermill": {
     "duration": 0.134777,
     "end_time": "2022-03-01T13:55:07.473263",
     "exception": false,
     "start_time": "2022-03-01T13:55:07.338486",
     "status": "completed"
    },
    "tags": []
   },
   "outputs": [
    {
     "data": {
      "text/html": [
       "<div>\n",
       "<style scoped>\n",
       "    .dataframe tbody tr th:only-of-type {\n",
       "        vertical-align: middle;\n",
       "    }\n",
       "\n",
       "    .dataframe tbody tr th {\n",
       "        vertical-align: top;\n",
       "    }\n",
       "\n",
       "    .dataframe thead th {\n",
       "        text-align: right;\n",
       "    }\n",
       "</style>\n",
       "<table border=\"1\" class=\"dataframe\">\n",
       "  <thead>\n",
       "    <tr style=\"text-align: right;\">\n",
       "      <th></th>\n",
       "      <th>PatientId</th>\n",
       "      <th>AppointmentID</th>\n",
       "      <th>Age</th>\n",
       "      <th>Scholarship</th>\n",
       "      <th>Hipertension</th>\n",
       "      <th>Diabetes</th>\n",
       "      <th>Alcoholism</th>\n",
       "      <th>Handcap</th>\n",
       "      <th>SMS_received</th>\n",
       "      <th>ScheduledHour</th>\n",
       "      <th>ScheduledDay_num</th>\n",
       "      <th>between_reg2app</th>\n",
       "    </tr>\n",
       "  </thead>\n",
       "  <tbody>\n",
       "    <tr>\n",
       "      <th>count</th>\n",
       "      <td>1.105260e+05</td>\n",
       "      <td>1.105260e+05</td>\n",
       "      <td>110526.000000</td>\n",
       "      <td>110526.000000</td>\n",
       "      <td>110526.000000</td>\n",
       "      <td>110526.000000</td>\n",
       "      <td>110526.000000</td>\n",
       "      <td>110526.000000</td>\n",
       "      <td>110526.000000</td>\n",
       "      <td>110526.000000</td>\n",
       "      <td>110526.000000</td>\n",
       "      <td>110526</td>\n",
       "    </tr>\n",
       "    <tr>\n",
       "      <th>mean</th>\n",
       "      <td>1.474934e+14</td>\n",
       "      <td>5.675304e+06</td>\n",
       "      <td>37.089219</td>\n",
       "      <td>0.098266</td>\n",
       "      <td>0.197248</td>\n",
       "      <td>0.071865</td>\n",
       "      <td>0.030400</td>\n",
       "      <td>0.022248</td>\n",
       "      <td>0.321029</td>\n",
       "      <td>10.774542</td>\n",
       "      <td>1.851971</td>\n",
       "      <td>10 days 04:24:39.789370826</td>\n",
       "    </tr>\n",
       "    <tr>\n",
       "      <th>std</th>\n",
       "      <td>2.560943e+14</td>\n",
       "      <td>7.129544e+04</td>\n",
       "      <td>23.110026</td>\n",
       "      <td>0.297676</td>\n",
       "      <td>0.397923</td>\n",
       "      <td>0.258266</td>\n",
       "      <td>0.171686</td>\n",
       "      <td>0.161543</td>\n",
       "      <td>0.466874</td>\n",
       "      <td>3.216192</td>\n",
       "      <td>1.378515</td>\n",
       "      <td>15 days 06:07:14.979140739</td>\n",
       "    </tr>\n",
       "    <tr>\n",
       "      <th>min</th>\n",
       "      <td>3.921784e+04</td>\n",
       "      <td>5.030230e+06</td>\n",
       "      <td>0.000000</td>\n",
       "      <td>0.000000</td>\n",
       "      <td>0.000000</td>\n",
       "      <td>0.000000</td>\n",
       "      <td>0.000000</td>\n",
       "      <td>0.000000</td>\n",
       "      <td>0.000000</td>\n",
       "      <td>6.000000</td>\n",
       "      <td>0.000000</td>\n",
       "      <td>-6 days +00:00:00</td>\n",
       "    </tr>\n",
       "    <tr>\n",
       "      <th>25%</th>\n",
       "      <td>4.172536e+12</td>\n",
       "      <td>5.640285e+06</td>\n",
       "      <td>18.000000</td>\n",
       "      <td>0.000000</td>\n",
       "      <td>0.000000</td>\n",
       "      <td>0.000000</td>\n",
       "      <td>0.000000</td>\n",
       "      <td>0.000000</td>\n",
       "      <td>0.000000</td>\n",
       "      <td>8.000000</td>\n",
       "      <td>1.000000</td>\n",
       "      <td>0 days 00:00:00</td>\n",
       "    </tr>\n",
       "    <tr>\n",
       "      <th>50%</th>\n",
       "      <td>3.173184e+13</td>\n",
       "      <td>5.680572e+06</td>\n",
       "      <td>37.000000</td>\n",
       "      <td>0.000000</td>\n",
       "      <td>0.000000</td>\n",
       "      <td>0.000000</td>\n",
       "      <td>0.000000</td>\n",
       "      <td>0.000000</td>\n",
       "      <td>0.000000</td>\n",
       "      <td>10.000000</td>\n",
       "      <td>2.000000</td>\n",
       "      <td>4 days 00:00:00</td>\n",
       "    </tr>\n",
       "    <tr>\n",
       "      <th>75%</th>\n",
       "      <td>9.438963e+13</td>\n",
       "      <td>5.725523e+06</td>\n",
       "      <td>55.000000</td>\n",
       "      <td>0.000000</td>\n",
       "      <td>0.000000</td>\n",
       "      <td>0.000000</td>\n",
       "      <td>0.000000</td>\n",
       "      <td>0.000000</td>\n",
       "      <td>1.000000</td>\n",
       "      <td>13.000000</td>\n",
       "      <td>3.000000</td>\n",
       "      <td>15 days 00:00:00</td>\n",
       "    </tr>\n",
       "    <tr>\n",
       "      <th>max</th>\n",
       "      <td>9.999816e+14</td>\n",
       "      <td>5.790484e+06</td>\n",
       "      <td>115.000000</td>\n",
       "      <td>1.000000</td>\n",
       "      <td>1.000000</td>\n",
       "      <td>1.000000</td>\n",
       "      <td>1.000000</td>\n",
       "      <td>4.000000</td>\n",
       "      <td>1.000000</td>\n",
       "      <td>21.000000</td>\n",
       "      <td>5.000000</td>\n",
       "      <td>179 days 00:00:00</td>\n",
       "    </tr>\n",
       "  </tbody>\n",
       "</table>\n",
       "</div>"
      ],
      "text/plain": [
       "          PatientId  AppointmentID            Age    Scholarship  \\\n",
       "count  1.105260e+05   1.105260e+05  110526.000000  110526.000000   \n",
       "mean   1.474934e+14   5.675304e+06      37.089219       0.098266   \n",
       "std    2.560943e+14   7.129544e+04      23.110026       0.297676   \n",
       "min    3.921784e+04   5.030230e+06       0.000000       0.000000   \n",
       "25%    4.172536e+12   5.640285e+06      18.000000       0.000000   \n",
       "50%    3.173184e+13   5.680572e+06      37.000000       0.000000   \n",
       "75%    9.438963e+13   5.725523e+06      55.000000       0.000000   \n",
       "max    9.999816e+14   5.790484e+06     115.000000       1.000000   \n",
       "\n",
       "        Hipertension       Diabetes     Alcoholism        Handcap  \\\n",
       "count  110526.000000  110526.000000  110526.000000  110526.000000   \n",
       "mean        0.197248       0.071865       0.030400       0.022248   \n",
       "std         0.397923       0.258266       0.171686       0.161543   \n",
       "min         0.000000       0.000000       0.000000       0.000000   \n",
       "25%         0.000000       0.000000       0.000000       0.000000   \n",
       "50%         0.000000       0.000000       0.000000       0.000000   \n",
       "75%         0.000000       0.000000       0.000000       0.000000   \n",
       "max         1.000000       1.000000       1.000000       4.000000   \n",
       "\n",
       "        SMS_received  ScheduledHour  ScheduledDay_num  \\\n",
       "count  110526.000000  110526.000000     110526.000000   \n",
       "mean        0.321029      10.774542          1.851971   \n",
       "std         0.466874       3.216192          1.378515   \n",
       "min         0.000000       6.000000          0.000000   \n",
       "25%         0.000000       8.000000          1.000000   \n",
       "50%         0.000000      10.000000          2.000000   \n",
       "75%         1.000000      13.000000          3.000000   \n",
       "max         1.000000      21.000000          5.000000   \n",
       "\n",
       "                  between_reg2app  \n",
       "count                      110526  \n",
       "mean   10 days 04:24:39.789370826  \n",
       "std    15 days 06:07:14.979140739  \n",
       "min             -6 days +00:00:00  \n",
       "25%               0 days 00:00:00  \n",
       "50%               4 days 00:00:00  \n",
       "75%              15 days 00:00:00  \n",
       "max             179 days 00:00:00  "
      ]
     },
     "execution_count": 6,
     "metadata": {},
     "output_type": "execute_result"
    }
   ],
   "source": [
    "#find the errors and remove them \n",
    "defect_rows_age =df[df[\"Age\"]<0].index\n",
    "df.drop(defect_rows_age,inplace=True)\n",
    "\n",
    "#check if the age problem is solved\n",
    "df.describe()"
   ]
  },
  {
   "cell_type": "markdown",
   "id": "0f552fba",
   "metadata": {
    "papermill": {
     "duration": 0.024413,
     "end_time": "2022-03-01T13:55:07.525636",
     "exception": false,
     "start_time": "2022-03-01T13:55:07.501223",
     "status": "completed"
    },
    "tags": []
   },
   "source": [
    "**Work Plan**\n",
    "\n",
    "We will try to characterize those who do not come to the appointments and then suggest ways to improve the percentage of arrival to the appointments.\n",
    "\n",
    "The characteristics we will investigate will be -\n",
    "* gender\n",
    "* day during the week\n",
    "* hour during the day\n",
    "* people with disabilities\n",
    "* age\n",
    "* the effect of a reminder message\n",
    "* duration between the registration to the actual appointment"
   ]
  },
  {
   "cell_type": "markdown",
   "id": "ad246ee0",
   "metadata": {
    "papermill": {
     "duration": 0.024724,
     "end_time": "2022-03-01T13:55:07.575092",
     "exception": false,
     "start_time": "2022-03-01T13:55:07.550368",
     "status": "completed"
    },
    "tags": []
   },
   "source": [
    "**Show VS. No-show and Men VS. Women**\n",
    "\n",
    "Our first question for the data is about the distribution between those who show to their appointments and those who are a \"no-show\". We will check if there is a diffrence between men and women concerning this issue. "
   ]
  },
  {
   "cell_type": "code",
   "execution_count": 7,
   "id": "79220b4f",
   "metadata": {
    "execution": {
     "iopub.execute_input": "2022-03-01T13:55:07.634915Z",
     "iopub.status.busy": "2022-03-01T13:55:07.633930Z",
     "iopub.status.idle": "2022-03-01T13:55:07.948122Z",
     "shell.execute_reply": "2022-03-01T13:55:07.947466Z",
     "shell.execute_reply.started": "2022-03-01T10:54:32.975828Z"
    },
    "papermill": {
     "duration": 0.348092,
     "end_time": "2022-03-01T13:55:07.948269",
     "exception": false,
     "start_time": "2022-03-01T13:55:07.600177",
     "status": "completed"
    },
    "tags": []
   },
   "outputs": [
    {
     "data": {
      "image/png": "[encoded data removed]",
      "text/plain": [
       "<Figure size 432x288 with 1 Axes>"
      ]
     },
     "metadata": {
      "needs_background": "light"
     },
     "output_type": "display_data"
    }
   ],
   "source": [
    "from matplotlib import pyplot as plt\n",
    "\n",
    "#arange the data for the plot\n",
    "M_num_show = len(df[(df[\"No-show\"]==\"No\")&(df[\"Gender\"]==\"M\")])\n",
    "F_num_show = len(df[(df[\"No-show\"]==\"No\")&(df[\"Gender\"]==\"F\")])\n",
    "F_num_nshow = len(df[(df[\"No-show\"]==\"Yes\")&(df[\"Gender\"]==\"F\")])\n",
    "M_num_nshow = len(df[(df[\"No-show\"]==\"Yes\")&(df[\"Gender\"]==\"M\")])\n",
    "\n",
    "y_men = [M_num_show,M_num_nshow,]\n",
    "y_women= [F_num_show,F_num_nshow]\n",
    "\n",
    "#arange general settings for the plot\n",
    "x = np.arange(len(y_men))\n",
    "width = 0.4\n",
    "\n",
    "labels = [\"Show\",\"No-Show\"]\n",
    "\n",
    "#setting of the plot\n",
    "fig, ax = plt.subplots()\n",
    "plt.style.use(\"ggplot\") \n",
    "W_no=ax.bar(x-0.2,  y_women,width= 0.4,color=\"#3E7CB4\",label='Women')\n",
    "M_no=ax.bar(x+0.2, y_men,width=0.4,color = \"#5E95C7\",label='Men')\n",
    "ax.set_xticks(x, labels)\n",
    "ax.set_title('Show VS No-show by gender')\n",
    "ax.bar_label(W_no,padding=0)\n",
    "ax.bar_label(M_no, padding=0)\n",
    "ax.legend()\n",
    "plt.show()"
   ]
  },
  {
   "cell_type": "code",
   "execution_count": 8,
   "id": "94d74528",
   "metadata": {
    "execution": {
     "iopub.execute_input": "2022-03-01T13:55:08.015368Z",
     "iopub.status.busy": "2022-03-01T13:55:08.014628Z",
     "iopub.status.idle": "2022-03-01T13:55:08.043028Z",
     "shell.execute_reply": "2022-03-01T13:55:08.043505Z",
     "shell.execute_reply.started": "2022-03-01T10:54:33.245495Z"
    },
    "papermill": {
     "duration": 0.06993,
     "end_time": "2022-03-01T13:55:08.043712",
     "exception": false,
     "start_time": "2022-03-01T13:55:07.973782",
     "status": "completed"
    },
    "tags": []
   },
   "outputs": [
    {
     "name": "stdout",
     "output_type": "stream",
     "text": [
      "% of Women in all the appointments:  0.65\n",
      "% of No-show painets:  0.202\n",
      "% of Men No-show painets :  0.2\n",
      "% of Women No-show painets :  0.203\n"
     ]
    }
   ],
   "source": [
    "#for the written report\n",
    "numb_noshow = df[(df[\"No-show\"]==\"Yes\")][\"PatientId\"].count()\n",
    "total_women = df[df[\"Gender\"]==\"F\"][\"PatientId\"].count()\n",
    "total_paintes = df[\"PatientId\"].count()\n",
    "\n",
    "print(\"% of Women in all the appointments: \" ,str(round(total_women/total_paintes,2)))\n",
    "print(\"% of No-show painets: \", str(round(numb_noshow/total_paintes,3)))\n",
    "print(\"% of Men No-show painets : \" , str(round(M_num_nshow/(M_num_nshow+M_num_show),3)))\n",
    "print(\"% of Women No-show painets : \" , str(round(F_num_nshow/(F_num_nshow+F_num_show),3)))\n"
   ]
  },
  {
   "cell_type": "markdown",
   "id": "3e79409a",
   "metadata": {
    "papermill": {
     "duration": 0.026145,
     "end_time": "2022-03-01T13:55:08.095877",
     "exception": false,
     "start_time": "2022-03-01T13:55:08.069732",
     "status": "completed"
    },
    "tags": []
   },
   "source": [
    "From this examination, we can see two interesting insights\n",
    "* Women make far more appointments than men (0.65)\n",
    "* The difference in the \"no-show\" category between men and women is negligible (0.02)"
   ]
  },
  {
   "cell_type": "markdown",
   "id": "7c9f8579",
   "metadata": {
    "papermill": {
     "duration": 0.02628,
     "end_time": "2022-03-01T13:55:08.148388",
     "exception": false,
     "start_time": "2022-03-01T13:55:08.122108",
     "status": "completed"
    },
    "tags": []
   },
   "source": [
    "**Day During the Week**\n",
    "\n",
    "Our second question will check if there is a certain day that more people do not show up on. If we will find out there is one, we can organize the shifts  of the medical staff accordingly to minimize the no-shows."
   ]
  },
  {
   "cell_type": "code",
   "execution_count": 9,
   "id": "9e6e2c58",
   "metadata": {
    "execution": {
     "iopub.execute_input": "2022-03-01T13:55:08.217790Z",
     "iopub.status.busy": "2022-03-01T13:55:08.217093Z",
     "iopub.status.idle": "2022-03-01T13:55:08.517711Z",
     "shell.execute_reply": "2022-03-01T13:55:08.518169Z",
     "shell.execute_reply.started": "2022-03-01T10:54:33.284956Z"
    },
    "papermill": {
     "duration": 0.341637,
     "end_time": "2022-03-01T13:55:08.518340",
     "exception": false,
     "start_time": "2022-03-01T13:55:08.176703",
     "status": "completed"
    },
    "tags": []
   },
   "outputs": [
    {
     "data": {
      "image/png": "[encoded data removed]",
      "text/plain": [
       "<Figure size 432x288 with 1 Axes>"
      ]
     },
     "metadata": {},
     "output_type": "display_data"
    }
   ],
   "source": [
    "#create 2 series, one with a total of each day and the other with no-show of each day\n",
    "y = df.groupby(\"ScheduledDay_num\").count()[\"PatientId\"]\n",
    "y1 = df[df[\"No-show\"]==\"Yes\"].groupby(\"ScheduledDay_num\").count()[\"PatientId\"]\n",
    "\n",
    "#add to the series Sunday and arange general settings for the chart\n",
    "y[6]=0\n",
    "y1[6]=0\n",
    "x = np.arange(7)\n",
    "week_day =  [\"Monday\",\"Tuesday\",\"Wednesday\",\"Thursday\",\"Friday\",\"Saturday\",\"Sunday\"]\n",
    "\n",
    "#setting of the chart\n",
    "fig, ax = plt.subplots()\n",
    "plt.style.use(\"ggplot\") \n",
    "tot =  ax.bar(x, y,color = \"#5E95C7\")\n",
    "no = ax.bar(x, y1,color = \"#3E7CB4\")\n",
    "plt.xticks(np.arange(len(week_day )),week_day ,rotation= 45)\n",
    "ax.bar_label(tot,padding=1)\n",
    "ax.bar_label(no,padding=1,color=\"w\")\n",
    "plt.show()"
   ]
  },
  {
   "cell_type": "markdown",
   "id": "b756ffff",
   "metadata": {
    "papermill": {
     "duration": 0.026976,
     "end_time": "2022-03-01T13:55:08.571990",
     "exception": false,
     "start_time": "2022-03-01T13:55:08.545014",
     "status": "completed"
    },
    "tags": []
   },
   "source": [
    "We will also check the percentage of the distribution of \"no-shows\" during the weekdays."
   ]
  },
  {
   "cell_type": "code",
   "execution_count": 10,
   "id": "955fac66",
   "metadata": {
    "execution": {
     "iopub.execute_input": "2022-03-01T13:55:08.629528Z",
     "iopub.status.busy": "2022-03-01T13:55:08.628529Z",
     "iopub.status.idle": "2022-03-01T13:55:08.891628Z",
     "shell.execute_reply": "2022-03-01T13:55:08.891158Z",
     "shell.execute_reply.started": "2022-03-01T10:54:33.585824Z"
    },
    "papermill": {
     "duration": 0.292876,
     "end_time": "2022-03-01T13:55:08.891797",
     "exception": false,
     "start_time": "2022-03-01T13:55:08.598921",
     "status": "completed"
    },
    "tags": []
   },
   "outputs": [
    {
     "data": {
      "image/png": "[encoded data removed]",
      "text/plain": [
       "<Figure size 432x288 with 1 Axes>"
      ]
     },
     "metadata": {},
     "output_type": "display_data"
    }
   ],
   "source": [
    "#copy the df and create a series with the percentage of each day \n",
    "y = df.copy()\n",
    "y= y.groupby([\"ScheduledDay_num\",'No-show']).count().sort_index()\n",
    "y= y[\"PatientId\"].unstack()\n",
    "y= y[\"Yes\"]/(y[\"No\"]+y[\"Yes\"])*100\n",
    "\n",
    "#add to the series Sunday and arange general settings for the chart\n",
    "y[6]=0 \n",
    "x=np.arange(7)\n",
    "week_day =  [\"Monday\",\"Tuesday\",\"Wednesday\",\"Thursday\",\"Friday\",\"Saturday\",\"Sunday\"]\n",
    "\n",
    "#setting of the chart\n",
    "fig, ax = plt.subplots()\n",
    "plt.style.use(\"ggplot\") \n",
    "prece =ax.bar(x, y,color = \"#3E7CB4\")\n",
    "plt.xticks(np.arange(len(week_day )),week_day ,rotation= 45)\n",
    "plt.title('% No-show during days of the week')\n",
    "plt.show()\n"
   ]
  },
  {
   "cell_type": "markdown",
   "id": "12d5f1cb",
   "metadata": {
    "papermill": {
     "duration": 0.027477,
     "end_time": "2022-03-01T13:55:08.947402",
     "exception": false,
     "start_time": "2022-03-01T13:55:08.919925",
     "status": "completed"
    },
    "tags": []
   },
   "source": [
    "We can see that during most of the week there is the same number of appointments, but in general Wednesdays and Thursdays are days with fewer arrivals (~18k). \n",
    "Regarding the \"no-show\" number, relatively every day there is no significant difference. The decrease on Saturday is probably due to the low number of appointments (24) that exist on this day, so we will ignore this finding."
   ]
  },
  {
   "cell_type": "markdown",
   "id": "f70d35c3",
   "metadata": {
    "papermill": {
     "duration": 0.028916,
     "end_time": "2022-03-01T13:55:09.004258",
     "exception": false,
     "start_time": "2022-03-01T13:55:08.975342",
     "status": "completed"
    },
    "tags": []
   },
   "source": [
    "**Hour during the day**\n",
    "\n",
    "Our next question will check if there is an hour in which more people do not show up at. Similarly to the previous question, if we will find out there is a certain hour of cancelation, we can organize the shifts of the medical staff in a way that will minimize the \"no-shows\"."
   ]
  },
  {
   "cell_type": "code",
   "execution_count": 11,
   "id": "67cdc015",
   "metadata": {
    "execution": {
     "iopub.execute_input": "2022-03-01T13:55:09.070183Z",
     "iopub.status.busy": "2022-03-01T13:55:09.068487Z",
     "iopub.status.idle": "2022-03-01T13:55:09.435314Z",
     "shell.execute_reply": "2022-03-01T13:55:09.435821Z",
     "shell.execute_reply.started": "2022-03-01T10:54:33.842589Z"
    },
    "papermill": {
     "duration": 0.402881,
     "end_time": "2022-03-01T13:55:09.435996",
     "exception": false,
     "start_time": "2022-03-01T13:55:09.033115",
     "status": "completed"
    },
    "tags": []
   },
   "outputs": [
    {
     "data": {
      "image/png": "[encoded data removed]",
      "text/plain": [
       "<Figure size 432x288 with 2 Axes>"
      ]
     },
     "metadata": {},
     "output_type": "display_data"
    }
   ],
   "source": [
    "#copy the df and create 2 series, one with the percentage of each hour that there was a \"no-show\", and the other with the total appointments   \n",
    "\n",
    "y = df.copy() \n",
    "total =  y.groupby([\"ScheduledHour\"]).count().sort_index()[\"PatientId\"]\n",
    "y= y.groupby([\"ScheduledHour\",'No-show']).count().sort_index()\n",
    "y= y[\"PatientId\"].unstack()\n",
    "prece= y[\"Yes\"]/(y[\"No\"]+y[\"Yes\"])*100\n",
    "\n",
    "#setting of the chart\n",
    "fig, ax = plt.subplots(2,1)\n",
    "ax[0].plot(prece,color=\"#3E7CB4\")\n",
    "ax[0].set_xlabel('Time')\n",
    "ax[0].set_ylabel('% of cancelation', color='#3E7CB4')\n",
    "ax[1].plot(total,color='#5E95C7')\n",
    "ax[1].set_xlabel('Time')\n",
    "ax[1].set_ylabel('total appoitments', color='#5E95C7')\n",
    "plt.show()\n"
   ]
  },
  {
   "cell_type": "markdown",
   "id": "17df3ebf",
   "metadata": {
    "papermill": {
     "duration": 0.02919,
     "end_time": "2022-03-01T13:55:09.494351",
     "exception": false,
     "start_time": "2022-03-01T13:55:09.465161",
     "status": "completed"
    },
    "tags": []
   },
   "source": [
    "It can be seen that morning appointment are less likely to be canceled. In general, the average cancellation of appointments per day is 22.55. Between the hours of 7-8 am, only 15.5 percent of the appointments were canceled, while as the day progressed, more and more appointments were canceled, and as of 15:00, 30 percent of the appointments were canceled.\n",
    "\n",
    "Another point concerns the number of appointments scheduled in the evening: the average number of appointments per hour is 6907 but as of 17:00-2909, 18:00-1349, 19:00-488, 20:00-100, 21:00-3 were scheduled.\n",
    "\n",
    "A suggestion - I advise increasing the staffing of medical staff in the mornings and adding more options for appointments during morning hours, in addition to reducing the staff significantly from 18:00 onwards."
   ]
  },
  {
   "cell_type": "markdown",
   "id": "c14f2f00",
   "metadata": {
    "papermill": {
     "duration": 0.029259,
     "end_time": "2022-03-01T13:55:09.554785",
     "exception": false,
     "start_time": "2022-03-01T13:55:09.525526",
     "status": "completed"
    },
    "tags": []
   },
   "source": [
    "**People with disabilities**\n",
    "\n",
    "Our next question will check if there exists a difference in show/\"no-show\" concerning people with disabilities. We'll start with a minor check of the % of \"no-show\" among people with disabilities. "
   ]
  },
  {
   "cell_type": "code",
   "execution_count": 12,
   "id": "c4930fa5",
   "metadata": {
    "execution": {
     "iopub.execute_input": "2022-03-01T13:55:09.617676Z",
     "iopub.status.busy": "2022-03-01T13:55:09.616563Z",
     "iopub.status.idle": "2022-03-01T13:55:09.629049Z",
     "shell.execute_reply": "2022-03-01T13:55:09.629468Z",
     "shell.execute_reply.started": "2022-03-01T10:54:34.215403Z"
    },
    "papermill": {
     "duration": 0.045395,
     "end_time": "2022-03-01T13:55:09.629664",
     "exception": false,
     "start_time": "2022-03-01T13:55:09.584269",
     "status": "completed"
    },
    "tags": []
   },
   "outputs": [
    {
     "data": {
      "text/plain": [
       "0.18"
      ]
     },
     "execution_count": 12,
     "metadata": {},
     "output_type": "execute_result"
    }
   ],
   "source": [
    "#precentage of handicap people that are a \"no-show\"\n",
    "y=df[df[\"Handcap\"]>0]\n",
    "y_no = y[y[\"No-show\"]==\"Yes\"].count()[\"PatientId\"]\n",
    "round(y_no/len(y),2)"
   ]
  },
  {
   "cell_type": "markdown",
   "id": "7e8c7e25",
   "metadata": {
    "papermill": {
     "duration": 0.03042,
     "end_time": "2022-03-01T13:55:09.689564",
     "exception": false,
     "start_time": "2022-03-01T13:55:09.659144",
     "status": "completed"
    },
    "tags": []
   },
   "source": [
    "It can be seen that there is almost no change from the general population (0.202), so we chose not to go deeper into this issue."
   ]
  },
  {
   "cell_type": "markdown",
   "id": "18028989",
   "metadata": {
    "papermill": {
     "duration": 0.028964,
     "end_time": "2022-03-01T13:55:09.750008",
     "exception": false,
     "start_time": "2022-03-01T13:55:09.721044",
     "status": "completed"
    },
    "tags": []
   },
   "source": [
    "**Age**\n",
    "\n",
    "Our next question will check if we can find a certain age group of people who do not show up to their appointments."
   ]
  },
  {
   "cell_type": "code",
   "execution_count": 13,
   "id": "6ac8a7eb",
   "metadata": {
    "execution": {
     "iopub.execute_input": "2022-03-01T13:55:09.818465Z",
     "iopub.status.busy": "2022-03-01T13:55:09.817453Z",
     "iopub.status.idle": "2022-03-01T13:55:10.192601Z",
     "shell.execute_reply": "2022-03-01T13:55:10.193060Z",
     "shell.execute_reply.started": "2022-03-01T10:54:34.234609Z"
    },
    "papermill": {
     "duration": 0.414011,
     "end_time": "2022-03-01T13:55:10.193238",
     "exception": false,
     "start_time": "2022-03-01T13:55:09.779227",
     "status": "completed"
    },
    "tags": []
   },
   "outputs": [
    {
     "name": "stdout",
     "output_type": "stream",
     "text": [
      "Mean Decade no-show 0.19556479062572893\n",
      "\n",
      "% for all the deceades\n",
      "Age_decade\n",
      "0     0.199371\n",
      "10    0.251796\n",
      "20    0.246733\n",
      "30    0.217520\n",
      "40    0.202688\n",
      "50    0.174998\n",
      "60    0.150724\n",
      "70    0.152005\n",
      "80    0.157841\n",
      "90    0.201970\n",
      "dtype: float64\n",
      "\n",
      "amount appointments for all the decades\n",
      "Age_decade\n",
      "0     17475\n",
      "10    12947\n",
      "20    13699\n",
      "30    15171\n",
      "40    14209\n",
      "50    15863\n",
      "60    11876\n",
      "70     5934\n",
      "80     2946\n",
      "90      406\n",
      "Name: PatientId, dtype: int64\n"
     ]
    },
    {
     "data": {
      "image/png": "[encoded data removed]",
      "text/plain": [
       "<Figure size 432x288 with 1 Axes>"
      ]
     },
     "metadata": {},
     "output_type": "display_data"
    }
   ],
   "source": [
    "#function to create the decade column\n",
    "def age_dec(x):\n",
    "    if len(str(x))==1:\n",
    "        return 0\n",
    "    return int(str(x)[0]+str(0))\n",
    "\n",
    "\n",
    "#add another column with the decade of the patient\n",
    "df[\"Age_decade\"] = df[\"Age\"].apply(age_dec)\n",
    "\n",
    "#create pivot table in order to find the number of no-show in each decade\n",
    "y= df.groupby([\"Age_decade\",\"No-show\"]).count()\n",
    "y=y.unstack()[\"PatientId\"]\n",
    "\n",
    "#create a series for the chart\n",
    "precenet =y[\"Yes\"]/(y[\"Yes\"]+y[\"No\"])\n",
    "\n",
    "#set the chart\n",
    "precenet.plot(kind=\"line\",\n",
    "              title=\"No-show % over age\",\n",
    "              color=\"#3E7CB4\",\n",
    "             xlabel= \"Age\")\n",
    "\n",
    "#print data for the review \n",
    "print(\"Mean Decade no-show\" ,precenet.mean())\n",
    "print()\n",
    "print(\"% for all the deceades\")\n",
    "print(precenet)\n",
    "\n",
    "print()\n",
    "print(\"amount appointments for all the decades\")\n",
    "amount_dec = df.groupby(\"Age_decade\")[\"PatientId\"].count()\n",
    "print(amount_dec)"
   ]
  },
  {
   "cell_type": "markdown",
   "id": "39d5461b",
   "metadata": {
    "papermill": {
     "duration": 0.030571,
     "end_time": "2022-03-01T13:55:10.254877",
     "exception": false,
     "start_time": "2022-03-01T13:55:10.224306",
     "status": "completed"
    },
    "tags": []
   },
   "source": [
    "The average non-arrival per decade is (19.5). In this report, we are interested in groups where the percentage of arrival is particularly low. Surprisingly, the decades in which there are fewer appointments are between 10-20 (25.1), 20-30 (24.6). This finding may be due to relative health at young ages and perhaps related to the understanding of responsibility. In addition, at these ages there is a great sum of appointments, therefore the cancellation is critical, and we will accept that this is an issue that needs to be focused on."
   ]
  },
  {
   "cell_type": "markdown",
   "id": "7c4c98e2",
   "metadata": {
    "papermill": {
     "duration": 0.029986,
     "end_time": "2022-03-01T13:55:10.315043",
     "exception": false,
     "start_time": "2022-03-01T13:55:10.285057",
     "status": "completed"
    },
    "tags": []
   },
   "source": [
    "**The effect of a reminder message**\n",
    "\n",
    "Our next question will check the effect of reminder messages as a tool for minimizing \"no-show\" patients."
   ]
  },
  {
   "cell_type": "code",
   "execution_count": 14,
   "id": "e07de61c",
   "metadata": {
    "execution": {
     "iopub.execute_input": "2022-03-01T13:55:10.387228Z",
     "iopub.status.busy": "2022-03-01T13:55:10.382169Z",
     "iopub.status.idle": "2022-03-01T13:55:10.580562Z",
     "shell.execute_reply": "2022-03-01T13:55:10.580055Z",
     "shell.execute_reply.started": "2022-03-01T10:54:34.594888Z"
    },
    "papermill": {
     "duration": 0.233216,
     "end_time": "2022-03-01T13:55:10.580720",
     "exception": false,
     "start_time": "2022-03-01T13:55:10.347504",
     "status": "completed"
    },
    "tags": []
   },
   "outputs": [
    {
     "data": {
      "image/png": "[encoded data removed]",
      "text/plain": [
       "<Figure size 432x288 with 1 Axes>"
      ]
     },
     "metadata": {},
     "output_type": "display_data"
    }
   ],
   "source": [
    "#create different df for those who got an sms and those who didn't  \n",
    "got_sms = df[df[\"SMS_received\"]==1]\n",
    "no_sms =  df[df[\"SMS_received\"]==0]\n",
    "\n",
    "#check at each df what the % of those who no-show\n",
    "prec_cancel_sms= got_sms[got_sms[\"No-show\"]==\"Yes\"][\"PatientId\"].count()/got_sms[\"PatientId\"].count()\n",
    "prec_cancel_nsms= no_sms[no_sms[\"No-show\"]==\"Yes\"][\"PatientId\"].count()/no_sms[\"PatientId\"].count()\n",
    "\n",
    "#arrange the general settings and data for the chart\n",
    "x1=[1,2]\n",
    "y1= [round(prec_cancel_sms,2),round(prec_cancel_nsms,2)]\n",
    "label = [\"No-SMS\",\"SMS\"]\n",
    "\n",
    "#setting of the chart\n",
    "fig, ax = plt.subplots()\n",
    "plt.style.use(\"ggplot\")\n",
    "dat = ax.bar(x1,y1,color = [\"#3E7CB4\",\"#5E95C7\"])\n",
    "ax.bar_label(dat,padding=1)\n",
    "ax.set_title('SMS VS No-SMS % of cancel')\n",
    "ax.set_xticks(x1, label)\n",
    "ax.legend()\n",
    "plt.show()\n"
   ]
  },
  {
   "cell_type": "markdown",
   "id": "a0f8ec14",
   "metadata": {
    "papermill": {
     "duration": 0.03057,
     "end_time": "2022-03-01T13:55:10.642314",
     "exception": false,
     "start_time": "2022-03-01T13:55:10.611744",
     "status": "completed"
    },
    "tags": []
   },
   "source": [
    "We can see that there is a marked change between those who received a message and those who did not receive a message."
   ]
  },
  {
   "cell_type": "markdown",
   "id": "9495b640",
   "metadata": {
    "papermill": {
     "duration": 0.032491,
     "end_time": "2022-03-01T13:55:10.709541",
     "exception": false,
     "start_time": "2022-03-01T13:55:10.677050",
     "status": "completed"
    },
    "tags": []
   },
   "source": [
    "**Duration between the registration to the actual appointment**\n",
    "\n",
    "The last question concerns the percentage of arrival depending on the time between the setting of the appointment and the appointment itself."
   ]
  },
  {
   "cell_type": "code",
   "execution_count": 15,
   "id": "4752da01",
   "metadata": {
    "execution": {
     "iopub.execute_input": "2022-03-01T13:55:10.784788Z",
     "iopub.status.busy": "2022-03-01T13:55:10.784123Z",
     "iopub.status.idle": "2022-03-01T13:55:10.835763Z",
     "shell.execute_reply": "2022-03-01T13:55:10.836307Z",
     "shell.execute_reply.started": "2022-03-01T10:54:34.794097Z"
    },
    "papermill": {
     "duration": 0.095039,
     "end_time": "2022-03-01T13:55:10.836492",
     "exception": false,
     "start_time": "2022-03-01T13:55:10.741453",
     "status": "completed"
    },
    "tags": []
   },
   "outputs": [
    {
     "data": {
      "text/html": [
       "<div>\n",
       "<style scoped>\n",
       "    .dataframe tbody tr th:only-of-type {\n",
       "        vertical-align: middle;\n",
       "    }\n",
       "\n",
       "    .dataframe tbody tr th {\n",
       "        vertical-align: top;\n",
       "    }\n",
       "\n",
       "    .dataframe thead th {\n",
       "        text-align: right;\n",
       "    }\n",
       "</style>\n",
       "<table border=\"1\" class=\"dataframe\">\n",
       "  <thead>\n",
       "    <tr style=\"text-align: right;\">\n",
       "      <th>No-show</th>\n",
       "      <th>No</th>\n",
       "      <th>Yes</th>\n",
       "      <th>total</th>\n",
       "    </tr>\n",
       "    <tr>\n",
       "      <th>between_reg2app</th>\n",
       "      <th></th>\n",
       "      <th></th>\n",
       "      <th></th>\n",
       "    </tr>\n",
       "  </thead>\n",
       "  <tbody>\n",
       "    <tr>\n",
       "      <th>-6 days</th>\n",
       "      <td>NaN</td>\n",
       "      <td>1.0</td>\n",
       "      <td>NaN</td>\n",
       "    </tr>\n",
       "    <tr>\n",
       "      <th>-1 days</th>\n",
       "      <td>NaN</td>\n",
       "      <td>4.0</td>\n",
       "      <td>NaN</td>\n",
       "    </tr>\n",
       "    <tr>\n",
       "      <th>0 days</th>\n",
       "      <td>36770.0</td>\n",
       "      <td>1792.0</td>\n",
       "      <td>38562.0</td>\n",
       "    </tr>\n",
       "    <tr>\n",
       "      <th>1 days</th>\n",
       "      <td>4100.0</td>\n",
       "      <td>1113.0</td>\n",
       "      <td>5213.0</td>\n",
       "    </tr>\n",
       "    <tr>\n",
       "      <th>2 days</th>\n",
       "      <td>5123.0</td>\n",
       "      <td>1602.0</td>\n",
       "      <td>6725.0</td>\n",
       "    </tr>\n",
       "  </tbody>\n",
       "</table>\n",
       "</div>"
      ],
      "text/plain": [
       "No-show               No     Yes    total\n",
       "between_reg2app                          \n",
       "-6 days              NaN     1.0      NaN\n",
       "-1 days              NaN     4.0      NaN\n",
       "0 days           36770.0  1792.0  38562.0\n",
       "1 days            4100.0  1113.0   5213.0\n",
       "2 days            5123.0  1602.0   6725.0"
      ]
     },
     "execution_count": 15,
     "metadata": {},
     "output_type": "execute_result"
    }
   ],
   "source": [
    "#create new df that checks the duration between making an appointment to the appointment itself\n",
    "y= df.groupby([\"between_reg2app\",\"No-show\"]).count()[\"PatientId\"].unstack()\n",
    "y[\"total\"] =  y[\"Yes\"] + y[\"No\"]\n",
    "y.head()"
   ]
  },
  {
   "cell_type": "markdown",
   "id": "f9882871",
   "metadata": {
    "papermill": {
     "duration": 0.033053,
     "end_time": "2022-03-01T13:55:10.901264",
     "exception": false,
     "start_time": "2022-03-01T13:55:10.868211",
     "status": "completed"
    },
    "tags": []
   },
   "source": [
    "We can see that the first two rows are defected, so we will remove them.\n",
    "In addtion I will remove from the chart rows with less then 1K total appointments."
   ]
  },
  {
   "cell_type": "code",
   "execution_count": 16,
   "id": "8e30d71b",
   "metadata": {
    "execution": {
     "iopub.execute_input": "2022-03-01T13:55:10.971696Z",
     "iopub.status.busy": "2022-03-01T13:55:10.970687Z",
     "iopub.status.idle": "2022-03-01T13:55:10.977023Z",
     "shell.execute_reply": "2022-03-01T13:55:10.977548Z",
     "shell.execute_reply.started": "2022-03-01T10:54:34.847263Z"
    },
    "papermill": {
     "duration": 0.043642,
     "end_time": "2022-03-01T13:55:10.977742",
     "exception": false,
     "start_time": "2022-03-01T13:55:10.934100",
     "status": "completed"
    },
    "tags": []
   },
   "outputs": [],
   "source": [
    "#remove first 2 rows and calculate just rows with more then 1K in total\n",
    "y=y.iloc[2:,:]\n",
    "y1=y[y[\"total\"]>1000]\n",
    "y1.head(30)\n",
    "\n",
    "#we can see that until the 22nd day there is consistency with appointments above 1K. \n",
    "#we will remove the days from the 22nd day and onwards. \n",
    "y1=y.iloc[:23,:]"
   ]
  },
  {
   "cell_type": "code",
   "execution_count": 17,
   "id": "09d003fb",
   "metadata": {
    "execution": {
     "iopub.execute_input": "2022-03-01T13:55:11.067417Z",
     "iopub.status.busy": "2022-03-01T13:55:11.062983Z",
     "iopub.status.idle": "2022-03-01T13:55:11.249739Z",
     "shell.execute_reply": "2022-03-01T13:55:11.250195Z",
     "shell.execute_reply.started": "2022-03-01T10:54:34.854395Z"
    },
    "papermill": {
     "duration": 0.241089,
     "end_time": "2022-03-01T13:55:11.250358",
     "exception": false,
     "start_time": "2022-03-01T13:55:11.009269",
     "status": "completed"
    },
    "tags": []
   },
   "outputs": [
    {
     "data": {
      "image/png": "[encoded data removed]",
      "text/plain": [
       "<Figure size 432x288 with 1 Axes>"
      ]
     },
     "metadata": {},
     "output_type": "display_data"
    }
   ],
   "source": [
    "#calcualte the % of no-show and create series depending on the time from reg\n",
    "precent =  y1[\"Yes\"]/y1[\"total\"]\n",
    "\n",
    "#arange general settings and the data for the chart\n",
    "x = np.arange(len(precent))\n",
    "x_label = [str(item)[:6] for item in precent.index ]\n",
    "x_label =[x_label[i] for i in range(len(x_label)) if i%2==0] \n",
    "ind = np.arange(0,len(x),2)\n",
    "\n",
    "#setting of the chart\n",
    "fig, ax = plt.subplots()\n",
    "ax.plot(x,precent ,color=\"#3E7CB4\")\n",
    "ax.set_xticks(ind,x_label,rotation= 45)\n",
    "ax.set_xlim((-0,22))   # set the xlim to left, right\n",
    "ax.set_ylim((0.05,0.38))   # set the xlim to left, right\n",
    "ax.set_title(\"% of no-show depend on days from reg\")\n",
    "plt.show()"
   ]
  },
  {
   "cell_type": "markdown",
   "id": "950a50c0",
   "metadata": {
    "papermill": {
     "duration": 0.032206,
     "end_time": "2022-03-01T13:55:11.315088",
     "exception": false,
     "start_time": "2022-03-01T13:55:11.282882",
     "status": "completed"
    },
    "tags": []
   },
   "source": [
    "We can see that there is an increase that depends on the time between registration to \"no-show\". After 10 days we can see by the data the percentage goes up to 30 percent, while 7 days before it is just  0.266816.\n",
    "we can maybe suggest after this discovery to decrease the number of no-shows if we'll call to the patients and \"make the appointment again\" 6-7 days before the real one. \n",
    "in further to the other insights, we'll suggest calling the population with has more probability to no show for the appointment (between 10-30, those who set an appointment to 18:00 and afterwards )"
   ]
  },
  {
   "cell_type": "markdown",
   "id": "2d806b37",
   "metadata": {
    "papermill": {
     "duration": 0.03216,
     "end_time": "2022-03-01T13:55:11.380127",
     "exception": false,
     "start_time": "2022-03-01T13:55:11.347967",
     "status": "completed"
    },
    "tags": []
   },
   "source": [
    "**Conclusions**\n",
    "\n",
    "The report reviewed the characteristics of those who did not make it to their appointed medical meetings. We found that there is no significant difference between sexes or with disabled people regarding making it to the appointments. An interesting finding is that women make appointments considerably more than men (0.65).\n",
    "\n",
    "An attempt was also made to understand whether there is a difference concerning the days in the percentage of non-arrival, but the percentages seem to be similar and the differences are negligible, but it was found that there are days when fewer appointments.\n",
    "\n",
    "Two additional points that require consideration say that as the day progresses the chance of an appointment to happen is lower, and also the chance of not getting to it increases. In addition, there are interesting findings regards to age in terms of non-arrival. \n",
    "\n",
    "The last point regarded the importance and impact of a reminder message.\n",
    "\n",
    "**Suggestions**\n",
    "\n",
    "* Transfer the majority of the appointments from the evening to the morning.\n",
    "* Implement reminder messages for all patients.\n",
    "* Apply a confirmation phone call as a sort of 're-making the appointment' 7 days before the appointment in order to reduce the chances of not arriving.  I suggest focusing the first calls on the population with the higher probability to be a \"no-show\" - age group of 10-30 and appointment set after 18:00.\n",
    "\n",
    "\n",
    "**Further research**\n",
    "\n",
    "* Follow-up on the evening hours and specific days in which people make fewer appointments. Check the data according to each clinic, and consider closing clinics if there are few appointments in the evening/on certain days."
   ]
  }
 ],
 "metadata": {
  "kernelspec": {
   "display_name": "Python 3",
   "language": "python",
   "name": "python3"
  },
  "language_info": {
   "codemirror_mode": {
    "name": "ipython",
    "version": 3
   },
   "file_extension": ".py",
   "mimetype": "text/x-python",
   "name": "python",
   "nbconvert_exporter": "python",
   "pygments_lexer": "ipython3",
   "version": "3.7.12"
  },
  "papermill": {
   "default_parameters": {},
   "duration": 16.479846,
   "end_time": "2022-03-01T13:55:12.022098",
   "environment_variables": {},
   "exception": null,
   "input_path": "__notebook__.ipynb",
   "output_path": "__notebook__.ipynb",
   "parameters": {},
   "start_time": "2022-03-01T13:54:55.542252",
   "version": "2.3.3"
  }
 },
 "nbformat": 4,
 "nbformat_minor": 5
}
